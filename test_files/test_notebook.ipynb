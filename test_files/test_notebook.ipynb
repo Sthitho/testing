{
 "cells": [
  {
   "cell_type": "code",
   "execution_count": null,
   "id": "34469433",
   "metadata": {},
   "outputs": [],
   "source": [
    "def QuickExponential(n: int) -> int:\n",
    "    return (n * (n - 1)) // 2"
   ]
  },
  {
   "cell_type": "code",
   "execution_count": null,
   "id": "e5337c53",
   "metadata": {},
   "outputs": [],
   "source": [
    "if __name__ == '__main__':\n",
    "    print(f'The value of ')"
   ]
  },
  {
   "cell_type": "code",
   "execution_count": null,
   "id": "cf91a79f",
   "metadata": {},
   "outputs": [],
   "source": []
  },
  {
   "cell_type": "code",
   "execution_count": null,
   "id": "7836d546",
   "metadata": {},
   "outputs": [],
   "source": []
  }
 ],
 "metadata": {
  "kernelspec": {
   "display_name": "Python 3 (ipykernel)",
   "language": "python",
   "name": "python3"
  },
  "language_info": {
   "codemirror_mode": {
    "name": "ipython",
    "version": 3
   },
   "file_extension": ".py",
   "mimetype": "text/x-python",
   "name": "python",
   "nbconvert_exporter": "python",
   "pygments_lexer": "ipython3",
   "version": "3.9.7"
  }
 },
 "nbformat": 4,
 "nbformat_minor": 5
}
