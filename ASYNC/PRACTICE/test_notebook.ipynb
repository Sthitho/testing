{
 "cells": [
  {
   "cell_type": "code",
   "execution_count": 9,
   "id": "34469433",
   "metadata": {},
   "outputs": [
    {
     "name": "stdout",
     "output_type": "stream",
     "text": [
      "49999995000000\n"
     ]
    }
   ],
   "source": [
    "def QuickExponential(n: int=10_000_000) -> int: # using discrete math\n",
    "    return (n * (n - 1)) // 2\n",
    "\n",
    "if __name__ == '__main__':\n",
    "    print(QuickExponential())"
   ]
  },
  {
   "cell_type": "code",
   "execution_count": null,
   "id": "d3b60691",
   "metadata": {},
   "outputs": [],
   "source": []
  }
 ],
 "metadata": {
  "kernelspec": {
   "display_name": "Python 3 (ipykernel)",
   "language": "python",
   "name": "python3"
  },
  "language_info": {
   "codemirror_mode": {
    "name": "ipython",
    "version": 3
   },
   "file_extension": ".py",
   "mimetype": "text/x-python",
   "name": "python",
   "nbconvert_exporter": "python",
   "pygments_lexer": "ipython3",
   "version": "3.9.7"
  }
 },
 "nbformat": 4,
 "nbformat_minor": 5
}
